{
 "cells": [
  {
   "cell_type": "code",
   "execution_count": 1,
   "id": "private-tuition",
   "metadata": {},
   "outputs": [
    {
     "name": "stdout",
     "output_type": "stream",
     "text": [
      "I. Discuss your learnings on from Chapter 9 to Chapter 17\n",
      "\n"
     ]
    }
   ],
   "source": [
    "print(\"I. Discuss your learnings on from Chapter 9 to Chapter 17\\n\")"
   ]
  },
  {
   "cell_type": "code",
   "execution_count": 2,
   "id": "statewide-antenna",
   "metadata": {},
   "outputs": [
    {
     "name": "stdout",
     "output_type": "stream",
     "text": [
      "This is my learnings in chapter 9 Minimum of 200 words\n",
      "\n",
      "From the start of the video, I already learned about the connection in facebook that has been visualized by lines. This connection was the representation of Graph. After the facebook example, the vlogger explains more about Graph through examples such as flight routes, google maps, network interaction just like facebook and other social media. I learned that our surroundings have something to do with Graph. I also saw many lines which connect everything and results graph presentation. I also learned about the codes that use Graph. The code is complicated and I really need to repeat the video multiple times to be able to know what he is talking about. I am amazed how the data is structured through graphs and how this is useful in some time. From his example which is a flight route, I got mesmerized on how he played the data and got the expected output out of it.\n"
     ]
    }
   ],
   "source": [
    "print(\"This is my learnings in chapter 9 Minimum of 200 words\")\n",
    "print(\"\\nFrom the start of the video, I already learned about the connection in facebook that has been visualized by lines. This connection was the representation of Graph. After the facebook example, the vlogger explains more about Graph through examples such as flight routes, google maps, network interaction just like facebook and other social media. I learned that our surroundings have something to do with Graph. I also saw many lines which connect everything and results graph presentation. I also learned about the codes that use Graph. The code is complicated and I really need to repeat the video multiple times to be able to know what he is talking about. I am amazed how the data is structured through graphs and how this is useful in some time. From his example which is a flight route, I got mesmerized on how he played the data and got the expected output out of it.\")"
   ]
  },
  {
   "cell_type": "code",
   "execution_count": 3,
   "id": "biblical-simon",
   "metadata": {},
   "outputs": [
    {
     "name": "stdout",
     "output_type": "stream",
     "text": [
      "This is my learnings in chapter 10 Minimum of 200 words\n",
      "\n",
      "I learned from this chapter about Binary Search. From the video, I learned more about how Binary Search executes when the vlogger uses examples such as in a list and in reality happenings.The vlogger also differentiated the searching and sorting of data in data structures using python. I also learned about Linear Search where the biggest data to find is like 1 million data and we will find it, we will just use Linear Search. I was also introduced to some formulas that will be needed in searching for data. The vlogger compared the linear search and binary search in one coding and I am really amazed by that. I was also introduced to recursive binary search. Just like the last times, I was introduced to some codes that somehow, I really find it difficult to understand but the good thing is I can repeat the video more than once.\n"
     ]
    }
   ],
   "source": [
    "print(\"This is my learnings in chapter 10 Minimum of 200 words\")\n",
    "\n",
    "print(\"\\nI learned from this chapter about Binary Search. From the video, I learned more about how Binary Search executes when the vlogger uses examples such as in a list and in reality happenings.The vlogger also differentiated the searching and sorting of data in data structures using python. I also learned about Linear Search where the biggest data to find is like 1 million data and we will find it, we will just use Linear Search. I was also introduced to some formulas that will be needed in searching for data. The vlogger compared the linear search and binary search in one coding and I am really amazed by that. I was also introduced to recursive binary search. Just like the last times, I was introduced to some codes that somehow, I really find it difficult to understand but the good thing is I can repeat the video more than once.\")"
   ]
  },
  {
   "cell_type": "code",
   "execution_count": 4,
   "id": "imperial-massage",
   "metadata": {},
   "outputs": [
    {
     "name": "stdout",
     "output_type": "stream",
     "text": [
      "This is my learnings in chapter 11 Minimum of 200 words\n",
      "\n",
      "I was introduced to Bubble Sort where I am taught why sorting is important and how this will help me understand data sorting. I learned that some/almost/all of the technology company is using bubble sort. Sorting enables us to help to understand complicated things in data structures. Though, sorting is somewhat complicated but through programming languages like python, all things work neatly and concisely. I got to hear again about time complexity and space complexity. Even though I was introduced by this in chapter 1 of the subject, I understand it more by this video. Then I learned about how the Bubble Sort used in python, and how the codes were structured. And I am amazed how sorting became a handful to list of data. I tried the codes from the video and just like the last time, I am having a hard time understanding it but eventually, I learned something.\n"
     ]
    }
   ],
   "source": [
    "print(\"This is my learnings in chapter 11 Minimum of 200 words\")\n",
    "print(\"\\nI was introduced to Bubble Sort where I am taught why sorting is important and how this will help me understand data sorting. I learned that some/almost/all of the technology company is using bubble sort. Sorting enables us to help to understand complicated things in data structures. Though, sorting is somewhat complicated but through programming languages like python, all things work neatly and concisely. I got to hear again about time complexity and space complexity. Even though I was introduced by this in chapter 1 of the subject, I understand it more by this video. Then I learned about how the Bubble Sort used in python, and how the codes were structured. And I am amazed how sorting became a handful to list of data. I tried the codes from the video and just like the last time, I am having a hard time understanding it but eventually, I learned something.\")"
   ]
  },
  {
   "cell_type": "code",
   "execution_count": 5,
   "id": "favorite-times",
   "metadata": {},
   "outputs": [
    {
     "name": "stdout",
     "output_type": "stream",
     "text": [
      "This is my learnings in chapter 12 Minimum of 200 words\n",
      "\n",
      "I was introduced to Quick Sort. I got to understand this topic easily because the vlogger uses easy words and examples. He uses arrays which I already know how to use to keep data accurate. The process is easy to understand in the beginning of the video. I was also introduced to the two types of partition schemes, the hoare partition and the lomuto partition. I got to know and understand more about the two types of partition schemes because the vlogger uses the same example he used when he explained Quick sort. I was also introduced to average time complexity and worst case complexity. Then I got to see the examples of codes used in Quick sort and just like the last videos, I was amazed at how the data was structured. Though it is more complicated when it is executed to python than it was explained in the discussion, I still learned something.\n"
     ]
    }
   ],
   "source": [
    "print(\"This is my learnings in chapter 12 Minimum of 200 words\")\n",
    "\n",
    "print(\"\\nI was introduced to Quick Sort. I got to understand this topic easily because the vlogger uses easy words and examples. He uses arrays which I already know how to use to keep data accurate. The process is easy to understand in the beginning of the video. I was also introduced to the two types of partition schemes, the hoare partition and the lomuto partition. I got to know and understand more about the two types of partition schemes because the vlogger uses the same example he used when he explained Quick sort. I was also introduced to average time complexity and worst case complexity. Then I got to see the examples of codes used in Quick sort and just like the last videos, I was amazed at how the data was structured. Though it is more complicated when it is executed to python than it was explained in the discussion, I still learned something.\")"
   ]
  },
  {
   "cell_type": "code",
   "execution_count": 6,
   "id": "whole-crowd",
   "metadata": {},
   "outputs": [
    {
     "name": "stdout",
     "output_type": "stream",
     "text": [
      "This is my learnings in chapter 13 Minimum of 200 words\n",
      "\n",
      "I learned in this video about insertion sort. This topic somehow gives me chills because I am using insertion in my subject computer programming. Just like the last time videos, the topic became easier to understand for me because it uses examples and it is arrays. I learned throughout the video on how inserting in a data is useful to arrange or manage the data. I was also challenged by a question if I can do insertion sort without having an extra array, but still, I don’t know the answer so I used google to answer it and I read some articles but I didn’t learn any soI resume the video to understand better. Then later on, I got introduced to performances of insertion sort and these are, worst-case performance, best-case performance, average performance, and lastly, the worst-case space complexity. I also learned the importance of insertion sort with some statements from the video. Later on, I saw how the insert sort was executed in python programming language and I can say that it is not far from what I learned in the computer programming subject.\n"
     ]
    }
   ],
   "source": [
    "print(\"This is my learnings in chapter 13 Minimum of 200 words\")\n",
    "\n",
    "print(\"\\nI learned in this video about insertion sort. This topic somehow gives me chills because I am using insertion in my subject computer programming. Just like the last time videos, the topic became easier to understand for me because it uses examples and it is arrays. I learned throughout the video on how inserting in a data is useful to arrange or manage the data. I was also challenged by a question if I can do insertion sort without having an extra array, but still, I don’t know the answer so I used google to answer it and I read some articles but I didn’t learn any soI resume the video to understand better. Then later on, I got introduced to performances of insertion sort and these are, worst-case performance, best-case performance, average performance, and lastly, the worst-case space complexity. I also learned the importance of insertion sort with some statements from the video. Later on, I saw how the insert sort was executed in python programming language and I can say that it is not far from what I learned in the computer programming subject.\")"
   ]
  },
  {
   "cell_type": "code",
   "execution_count": 1,
   "id": "essential-tongue",
   "metadata": {},
   "outputs": [
    {
     "name": "stdout",
     "output_type": "stream",
     "text": [
      "This is my learnings in chapter 14 Minimum of 200 words\n",
      "\n",
      "I learned in this video about Merge Sort. From the start of the video, he uses arrays to explain what merge sort is. From his examples, I got to learn about how the merge sort worked. The blogger then challenged me to answer on how I can make the two sorted arrays into one sorted array. Since I don’t know what to do, I have searched for it and I got the answer which really made me realize how to do merge sort. I just need to repeatedly merge sublists to produce new sorted sublists until there is only 1 sublist remaining. I was amazed then when I resumed the video and I got the correct answer, though, I just searched for it. Then the blogger proceeded to coding, I learned how the merge sort worked in python programming language. Though, for me, it is a bit complicated, I am still amazed by how the result came up.\n"
     ]
    }
   ],
   "source": [
    "print(\"This is my learnings in chapter 14 Minimum of 200 words\")\n",
    "\n",
    "print(\"\\nI learned in this video about Merge Sort. From the start of the video, he uses arrays to explain what merge sort is. From his examples, I got to learn about how the merge sort worked. The blogger then challenged me to answer on how I can make the two sorted arrays into one sorted array. Since I don’t know what to do, I have searched for it and I got the answer which really made me realize how to do merge sort. I just need to repeatedly merge sublists to produce new sorted sublists until there is only 1 sublist remaining. I was amazed then when I resumed the video and I got the correct answer, though, I just searched for it. Then the blogger proceeded to coding, I learned how the merge sort worked in python programming language. Though, for me, it is a bit complicated, I am still amazed by how the result came up.\")"
   ]
  },
  {
   "cell_type": "code",
   "execution_count": 1,
   "id": "second-system",
   "metadata": {},
   "outputs": [
    {
     "name": "stdout",
     "output_type": "stream",
     "text": [
      "This is my learnings in chapter 15 Minimum of 200 words\n",
      "\n",
      "I learned in this video about Shell Sort, where I understand its definition, purpose, how it worked, and how it is being implemented in the python programming language. I learned that the Shell Sort is something connected to Insertion sort and that topic came from the previous videos. Just like the last videos, I got to understand better the Shell sort through example of arrays. I also learned something about insertion sort where the blogger introduces two issues on insertion sort. I also learned how to start the shell sort and how the gap is being used in this. Moreover, I also learned about the Big O complexity in this video and the words “worst-case performance” and “best-case performance” was being heard again in this video.The blogger makes examples and later on, a coding implementation. Though I am having a hard time dealing with the code, I was still amazed by how the results came out.\n"
     ]
    }
   ],
   "source": [
    "print(\"This is my learnings in chapter 15 Minimum of 200 words\")\n",
    "\n",
    "print(\"\\nI learned in this video about Shell Sort, where I understand its definition, purpose, how it worked, and how it is being implemented in the python programming language. I learned that the Shell Sort is something connected to Insertion sort and that topic came from the previous videos. Just like the last videos, I got to understand better the Shell sort through example of arrays. I also learned something about insertion sort where the blogger introduces two issues on insertion sort. I also learned how to start the shell sort and how the gap is being used in this. Moreover, I also learned about the Big O complexity in this video and the words “worst-case performance” and “best-case performance” was being heard again in this video.The blogger makes examples and later on, a coding implementation. Though I am having a hard time dealing with the code, I was still amazed by how the results came out.\")"
   ]
  },
  {
   "cell_type": "code",
   "execution_count": 2,
   "id": "driven-individual",
   "metadata": {},
   "outputs": [
    {
     "name": "stdout",
     "output_type": "stream",
     "text": [
      "This is my learnings in chapter 16 Minimum of 200 words\n",
      "\n",
      "I learned in this video about Selection Sort, where the blogger made me understand its implementation, and purpose. He gave examples through visible arrays, where he explained each of the arrays and I got to understand it. I got to hear again about Big O complexity which I heard in the previous video, chapter 15, the Shell sort. Then later on, I learned about how Selection sort is implemented in python programming language.In the start of Selection sort implementation, I can say that it is an easy one since the code is not that complicated but when the blogger goes a long way, the Selection sort becomes complicated, but still, I learned something because I understand it. And I was amazed at how the result came out.\n"
     ]
    }
   ],
   "source": [
    "print(\"This is my learnings in chapter 16 Minimum of 200 words\")\n",
    "\n",
    "print(\"\\nI learned in this video about Selection Sort, where the blogger made me understand its implementation, and purpose. He gave examples through visible arrays, where he explained each of the arrays and I got to understand it. I got to hear again about Big O complexity which I heard in the previous video, chapter 15, the Shell sort. Then later on, I learned about how Selection sort is implemented in python programming language.In the start of Selection sort implementation, I can say that it is an easy one since the code is not that complicated but when the blogger goes a long way, the Selection sort becomes complicated, but still, I learned something because I understand it. And I was amazed at how the result came out.\")"
   ]
  },
  {
   "cell_type": "code",
   "execution_count": 3,
   "id": "labeled-camping",
   "metadata": {},
   "outputs": [
    {
     "name": "stdout",
     "output_type": "stream",
     "text": [
      "This is my learnings in chapter 17 Minimum of 200 words\n",
      "\n",
      "I learned in this video about Selection Recursion in python programming language. In this video, I have a background in recursion because I learned about this recursion in computer programming subject. But I got to learn about this more because the blogger explained it in an easy way that even a high school student can understand. The topic uses realistic examples plus my background n recursion, I got to understand it very quickly. Then, when the blogger proceeds to code implementation of recursion, I find my old python codes in recursion and compare them to the video’s coding and I can say, they are just almost the same, though the have some differences maybe because the blogger uses pycharm while I am using 3.9 python program application. I learned something from his code because his code is somewhat easier than mine and maybe, I will use his implementation and experiment with it.\n"
     ]
    }
   ],
   "source": [
    "print(\"This is my learnings in chapter 17 Minimum of 200 words\")\n",
    "\n",
    "print(\"\\nI learned in this video about Selection Recursion in python programming language. In this video, I have a background in recursion because I learned about this recursion in computer programming subject. But I got to learn about this more because the blogger explained it in an easy way that even a high school student can understand. The topic uses realistic examples plus my background n recursion, I got to understand it very quickly. Then, when the blogger proceeds to code implementation of recursion, I find my old python codes in recursion and compare them to the video’s coding and I can say, they are just almost the same, though the have some differences maybe because the blogger uses pycharm while I am using 3.9 python program application. I learned something from his code because his code is somewhat easier than mine and maybe, I will use his implementation and experiment with it.\")"
   ]
  },
  {
   "cell_type": "code",
   "execution_count": 15,
   "id": "boolean-israel",
   "metadata": {},
   "outputs": [
    {
     "name": "stdout",
     "output_type": "stream",
     "text": [
      "II. Answer the following questions:\n",
      "\n"
     ]
    }
   ],
   "source": [
    "print(\"II. Answer the following questions:\\n\")"
   ]
  },
  {
   "cell_type": "code",
   "execution_count": 3,
   "id": "iraqi-poverty",
   "metadata": {},
   "outputs": [
    {
     "name": "stdout",
     "output_type": "stream",
     "text": [
      "Question#1: Implement the simple methods get_num and get_den that will return the numerator and denominator of a fraction.\n",
      "\n",
      "The fraction:  3/4\n",
      "Numerator:  3\n",
      "Denominator:  4\n"
     ]
    }
   ],
   "source": [
    "print(\"Question#1: Implement the simple methods get_num and get_den that will return the numerator and denominator of a fraction.\\n\")\n",
    "\n",
    "class Fraction:\n",
    "\n",
    "    def __init__(self, nume, deno):\n",
    "\n",
    "        self.num = nume        \n",
    "        self.den = deno     \n",
    "\n",
    "    def __str__(self):\n",
    "        return str(self.num) + \"/\" + str(self.den)\n",
    "\n",
    "    def getNum(self):\n",
    "        return self.num\n",
    "\n",
    "    def getDen(self):\n",
    "        return self.den\n",
    "\n",
    "myfraction = Fraction(3, 4)\n",
    "print(\"The fraction: \", myfraction)\n",
    "\n",
    "print(\"Numerator: \",myfraction.getNum())\n",
    "print(\"Denominator: \",myfraction.getDen())\n",
    "\n"
   ]
  },
  {
   "cell_type": "code",
   "execution_count": 29,
   "id": "starting-design",
   "metadata": {},
   "outputs": [
    {
     "name": "stdout",
     "output_type": "stream",
     "text": [
      "Question: Research the __radd__ method. How does it differ from __add__? When is it used? Implement __radd__\n",
      "\n",
      "\n",
      "Answer: \n",
      "\n",
      "__radd__ is only called if the left operand does not support the corresponding operation and the operands are of different types\n",
      "\\While,\n",
      "\n",
      " __add__ is used to implement addition operation.\n",
      "\n",
      "This is the implemenation/syntax of __radd__\n",
      "\n",
      "The implementation using __radd__ is 40\n"
     ]
    }
   ],
   "source": [
    "print(\"Question#2: Research the __radd__ method. How does it differ from __add__? When is it used? Implement __radd__\\n\")\n",
    "print(\"\\nAnswer: \\n\")\n",
    "print(\"__radd__ is only called if the left operand does not support the corresponding operation and the operands are of different types\")\n",
    "print(\"\\While,\\n\\n __add__ is used to implement addition operation.\")\n",
    "print(\"\\nThis is the implemenation/syntax of __radd__\\n\")\n",
    "\n",
    "class X:\n",
    "  def __init__(self, num):\n",
    "    self.num = num\n",
    "\n",
    "class Y:\n",
    "  def __init__(self, num):\n",
    "    self.num = num\n",
    "\n",
    "  def __radd__(self, other_obj):\n",
    "    return Y(self.num+other_obj.num)\n",
    "\n",
    "  def __str__(self):\n",
    "    return str(self.num)\n",
    "x = X(10)\n",
    "y = Y(30)\n",
    "print(\"The implementation using __radd__ is\", x+y)"
   ]
  },
  {
   "cell_type": "code",
   "execution_count": 5,
   "id": "narrow-poland",
   "metadata": {},
   "outputs": [
    {
     "name": "stdout",
     "output_type": "stream",
     "text": [
      "Question#3: Research the __repr__ method. How does it differ from __str__? When is it used? Implement __repr__\n",
      "\n",
      "\n",
      "Answer: \n",
      "\n",
      "__repr__ is used to compute the “official” string representation of an object and is typically used for debugging.\n",
      "\n",
      "While,\n",
      "\n",
      " __str__ is whatever you think is that object in text form\n",
      "\n",
      "This is the implemenation/syntax of __repr__\n",
      "\n",
      "Person name is Jenny and age is 19\n",
      "Person(name=Jenny, age=19)\n"
     ]
    }
   ],
   "source": [
    "print(\"Question#3: Research the __repr__ method. How does it differ from __str__? When is it used? Implement __repr__\\n\")\n",
    "print(\"\\nAnswer: \\n\")\n",
    "print(\"__repr__ is used to compute the “official” string representation of an object and is typically used for debugging.\")\n",
    "print(\"\\nWhile,\\n\\n __str__ is whatever you think is that object in text form\")\n",
    "print(\"\\nThis is the implemenation/syntax of __repr__\\n\")\n",
    "class Person:\n",
    "\n",
    "    def __init__(self, person_name, person_age):\n",
    "        self.name = person_name\n",
    "        self.age = person_age\n",
    "\n",
    "    def __str__(self):\n",
    "        return f'Person name is {self.name} and age is {self.age}'\n",
    "\n",
    "    def __repr__(self):\n",
    "        return f'Person(name={self.name}, age={self.age})'\n",
    "\n",
    "\n",
    "p = Person('Jenny', 19)\n",
    "\n",
    "print(p.__str__())\n",
    "print(p.__repr__())"
   ]
  },
  {
   "cell_type": "code",
   "execution_count": 8,
   "id": "twelve-health",
   "metadata": {},
   "outputs": [
    {
     "name": "stdout",
     "output_type": "stream",
     "text": [
      "Question: The most simple arithmetic circuit is known as the half adder. Research the simple half-adder circuit. Implement this circuit.\n",
      "\n",
      "Sum =  7\n",
      "Carry =  16\n"
     ]
    }
   ],
   "source": [
    "print(\"Question#4: The most simple arithmetic circuit is known as the half adder. Research the simple half-adder circuit. Implement this circuit.\\n\")\n",
    "\n",
    "def getResult(A, B):\n",
    "    Sum = A ^ B\n",
    "    \n",
    "    Carry = A & B\n",
    "    \n",
    "    print(\"Sum = \", Sum)\n",
    "    print(\"Carry = \", Carry)\n",
    "A = 20\n",
    "B = 19\n",
    "getResult(A, B)"
   ]
  },
  {
   "cell_type": "code",
   "execution_count": 16,
   "id": "arabic-memorabilia",
   "metadata": {},
   "outputs": [
    {
     "name": "stdout",
     "output_type": "stream",
     "text": [
      "Question#5: Design a class to represent a playing card and another one to represent a deck of cards. Using these two classes, implement your favorite card game.\n",
      "\n",
      "<class '__main__.Deck'>\n",
      "2 of Clubs\n",
      "King of Diamonds\n",
      "Jack of Hearts\n",
      "9 of Spades\n",
      "10 of Spades\n"
     ]
    }
   ],
   "source": [
    "print(\"Question#5: Design a class to represent a playing card and another one to represent a deck of cards. Using these two classes, implement your favorite card game.\\n\")\n",
    "\n",
    "import random\n",
    "\n",
    "class Card(object):\n",
    "    \"\"\"represents a standard playing card.\"\"\"\n",
    "\n",
    "    suit_names = [\"Clubs\", \"Diamonds\", \"Hearts\", \"Spades\"]\n",
    "    rank_names = [None, \"Ace\", \"2\", \"3\", \"4\", \"5\", \"6\", \"7\", \n",
    "              \"8\", \"9\", \"10\", \"Jack\", \"Queen\", \"King\"]\n",
    "\n",
    "    def __init__(self, suit=0, rank=2):\n",
    "        self.suit = suit\n",
    "        self.rank = rank\n",
    "\n",
    "    def __str__(self):\n",
    "        return '%s of %s' % (Card.rank_names[self.rank],\n",
    "                             Card.suit_names[self.suit])\n",
    "\n",
    "    def __cmp__(self, other):\n",
    "        t1 = self.suit, self.rank\n",
    "        t2 = other.suit, other.rank\n",
    "        return cmp(t1, t2)\n",
    "\n",
    "    def __lt__(self, other):\n",
    "        if self.suit < other.suit:\n",
    "            return True\n",
    "        elif self.suit > other.suit:\n",
    "            return False\n",
    "        else:\n",
    "            return self.rank < other.rank\n",
    "\n",
    "\n",
    "class Deck(object):\n",
    "    \"\"\"represents a deck of cards\"\"\"\n",
    "    \n",
    "    def __init__(self):\n",
    "        self.cards = []\n",
    "        for suit in range(4):\n",
    "            for rank in range(1, 14):\n",
    "                card = Card(suit, rank)\n",
    "                self.cards.append(card)\n",
    "\n",
    "    def __str__(self):\n",
    "        res = []\n",
    "        for card in self.cards:\n",
    "            res.append(str(card))\n",
    "        return '\\n'.join(res)\n",
    "\n",
    "    def add_card(self, card):\n",
    "        \"\"\"add a card to the deck\"\"\"\n",
    "        self.cards.append(card)\n",
    "\n",
    "    def pop_card(self, i=-1):\n",
    "        \"\"\"remove and return a card from the deck.\n",
    "        By default, pop the last card.\"\"\"\n",
    "        return self.cards.pop(i)\n",
    "\n",
    "    def shuffle(self):\n",
    "        \"\"\"shuffle the cards in this deck\"\"\"\n",
    "        random.shuffle(self.cards)\n",
    "\n",
    "    def sort(self):\n",
    "        \"\"\"sort the cards in ascending order\"\"\"\n",
    "        self.cards.sort()\n",
    "\n",
    "    def move_cards(self, hand, num):\n",
    "        \"\"\"move the given number of cards from the deck into the Hand\"\"\"\n",
    "        for i in range(num):\n",
    "            hand.add_card(self.pop_card())\n",
    "\n",
    "\n",
    "class Hand(Deck):\n",
    "    \"\"\"represents a hand of playing cards\"\"\"\n",
    "    \n",
    "    def __init__(self, label=''):\n",
    "        self.label = label\n",
    "        self.cards = []\n",
    "\n",
    "\n",
    "def find_defining_class(obj, meth_name):\n",
    "    \"\"\"find and return the class object that will provide \n",
    "    the definition of meth_name (as a string) if it is\n",
    "    invoked on obj.\n",
    "    \"\"\"\n",
    "    for ty in type(obj).mro():\n",
    "        if meth_name in ty.__dict__:\n",
    "            return ty\n",
    "    return None\n",
    "\n",
    "\n",
    "if __name__ == '__main__':\n",
    "    deck = Deck()\n",
    "    deck.shuffle()\n",
    "\n",
    "    hand = Hand()\n",
    "    print(find_defining_class(hand, 'shuffle'))\n",
    "\n",
    "    deck.move_cards(hand, 5)\n",
    "    hand.sort()\n",
    "    print(hand)\n",
    "\n",
    "\n"
   ]
  },
  {
   "cell_type": "code",
   "execution_count": 2,
   "id": "metropolitan-humor",
   "metadata": {},
   "outputs": [
    {
     "name": "stdout",
     "output_type": "stream",
     "text": [
      "Question#6: Design and implement an experiment to do benchmark comparisons of the two queue(enqueue,dequeue) implementations. What can you learn from such an experiment?\n",
      "\n",
      "10 enqueued to queue\n",
      "20 enqueued to queue\n",
      "30 enqueued to queue\n",
      "40 enqueued to queue\n",
      "10 dequeued from queue\n",
      "Front item is 20\n",
      "Rear item is 40\n",
      "\n",
      "\n",
      "I learned from this expirement the front and rear differences of EnQueue and DeQueue\n"
     ]
    }
   ],
   "source": [
    "print(\"Question#6: Design and implement an experiment to do benchmark comparisons of the two queue(enqueue,dequeue) implementations. What can you learn from such an experiment?\\n\")\n",
    "class Queue:\n",
    " \n",
    "    # __init__ function\n",
    "    def __init__(self, capacity):\n",
    "        self.front = self.size = 0\n",
    "        self.rear = capacity -1\n",
    "        self.Q = [None]*capacity\n",
    "        self.capacity = capacity\n",
    "     \n",
    "    # Queue is full when size becomes\n",
    "    # equal to the capacity\n",
    "    def isFull(self):\n",
    "        return self.size == self.capacity\n",
    "     \n",
    "    # Queue is empty when size is 0\n",
    "    def isEmpty(self):\n",
    "        return self.size == 0\n",
    "\n",
    "    def EnQueue(self, item):\n",
    "        if self.isFull():\n",
    "            print(\"Full\")\n",
    "            return\n",
    "        self.rear = (self.rear + 1) % (self.capacity)\n",
    "        self.Q[self.rear] = item\n",
    "        self.size = self.size + 1\n",
    "        print(\"% s enqueued to queue\"  % str(item))\n",
    " \n",
    "    # Function to remove an item from queue.\n",
    "    # It changes front and size\n",
    "    def DeQueue(self):\n",
    "        if self.isEmpty():\n",
    "            print(\"Empty\")\n",
    "            return\n",
    "         \n",
    "        print(\"% s dequeued from queue\" % str(self.Q[self.front]))\n",
    "        self.front = (self.front + 1) % (self.capacity)\n",
    "        self.size = self.size -1\n",
    "\n",
    "    def que_front(self):\n",
    "        if self.isEmpty():\n",
    "            print(\"Queue is empty\")\n",
    " \n",
    "        print(\"Front item is\", self.Q[self.front])\n",
    "         \n",
    "    # Function to get rear of queue\n",
    "    def que_rear(self):\n",
    "        if self.isEmpty():\n",
    "            print(\"Queue is empty\")\n",
    "        print(\"Rear item is\",  self.Q[self.rear])\n",
    " \n",
    " \n",
    "# Driver Code\n",
    "if __name__ == '__main__':\n",
    " \n",
    "    queue = Queue(30)\n",
    "    queue.EnQueue(10)\n",
    "    queue.EnQueue(20)\n",
    "    queue.EnQueue(30)\n",
    "    queue.EnQueue(40)\n",
    "    queue.DeQueue()\n",
    "    queue.que_front()\n",
    "    queue.que_rear()\n",
    "\n",
    "print(\"\\n\\nI learned from this expirement the front and rear differences of EnQueue and DeQueue\")\n"
   ]
  },
  {
   "cell_type": "code",
   "execution_count": 4,
   "id": "derived-lodging",
   "metadata": {},
   "outputs": [
    {
     "name": "stdout",
     "output_type": "stream",
     "text": [
      "Question#7: Consider a real life situation. Formulate a question and then design a simulation that can help to answer it. Possible situations include: \n",
      "\n",
      "\t a. Cars lined up at a car wash\n",
      "\t b. Customers at a grocery store check-out\n",
      "\t c. Airplanes taking off and landing on a runway\n",
      "\t d. A bank teller\n",
      "\tBe sure to state any assumptions that you make and provide any probabilistic data that must be considered as part of the scenario.\n",
      "question: A. How many car can be wash in 1 hour\n",
      "question: B. How many customer can be check out in 1 hour\n",
      "question: C. How many airplanes can btake off and landing on a runway\n",
      "question: D. How many hours can the bank teller cater 2 person\n"
     ]
    },
    {
     "ename": "ImportError",
     "evalue": "cannot import name 'Node' from 'collections' (c:\\users\\emachines\\appdata\\local\\programs\\python\\python39\\lib\\collections\\__init__.py)",
     "output_type": "error",
     "traceback": [
      "\u001b[1;31m---------------------------------------------------------------------------\u001b[0m",
      "\u001b[1;31mImportError\u001b[0m                               Traceback (most recent call last)",
      "\u001b[1;32m<ipython-input-4-c926e791a016>\u001b[0m in \u001b[0;36m<module>\u001b[1;34m\u001b[0m\n\u001b[0;32m     13\u001b[0m \u001b[1;33m\u001b[0m\u001b[0m\n\u001b[0;32m     14\u001b[0m \u001b[1;32mimport\u001b[0m \u001b[0mrandom\u001b[0m\u001b[1;33m\u001b[0m\u001b[1;33m\u001b[0m\u001b[0m\n\u001b[1;32m---> 15\u001b[1;33m \u001b[1;32mfrom\u001b[0m \u001b[0mcollections\u001b[0m \u001b[1;32mimport\u001b[0m \u001b[0mNode\u001b[0m\u001b[1;33m,\u001b[0m \u001b[0mLinkedlist\u001b[0m\u001b[1;33m\u001b[0m\u001b[1;33m\u001b[0m\u001b[0m\n\u001b[0m\u001b[0;32m     16\u001b[0m \u001b[1;33m\u001b[0m\u001b[0m\n\u001b[0;32m     17\u001b[0m \u001b[1;32mclass\u001b[0m \u001b[0mQueue\u001b[0m\u001b[1;33m(\u001b[0m\u001b[0mobject\u001b[0m\u001b[1;33m)\u001b[0m\u001b[1;33m:\u001b[0m\u001b[1;33m\u001b[0m\u001b[1;33m\u001b[0m\u001b[0m\n",
      "\u001b[1;31mImportError\u001b[0m: cannot import name 'Node' from 'collections' (c:\\users\\emachines\\appdata\\local\\programs\\python\\python39\\lib\\collections\\__init__.py)"
     ]
    }
   ],
   "source": [
    "print(\"Question#7: Consider a real life situation. Formulate a question and then design a simulation that can help to answer it. Possible situations include: \\n\")\n",
    "print(\"\\t a. Cars lined up at a car wash\")\n",
    "print(\"\\t b. Customers at a grocery store check-out\")\n",
    "print(\"\\t c. Airplanes taking off and landing on a runway\")\n",
    "print(\"\\t d. A bank teller\")\n",
    "print(\"\\tBe sure to state any assumptions that you make and provide any probabilistic data that must be considered as part of the scenario.\")\n",
    "\n",
    "\n",
    "print(\"question: A. How many car can be wash in 1 hour\")\n",
    "print(\"question: B. How many customer can be check out in 1 hour\")\n",
    "print(\"question: C. How many airplanes can btake off and landing on a runway\")\n",
    "print(\"question: D. How many hours can the bank teller cater 2 person\")\n",
    "\n",
    "import random\n",
    "from collections import Node, Linkedlist\n",
    "\n",
    "class Queue(object):\n",
    "    def __init__(self):\n",
    "        self.items = []\n",
    "\n",
    "    def isEmpty(self):\n",
    "        return self.items == []\n",
    "\n",
    "    def enqueue(self, item):\n",
    "        self.items.insert(0, item)\n",
    "\n",
    "    def dequeue(self):\n",
    "        return self.items.pop()\n",
    "\n",
    "    def size(self):\n",
    "        return len(self.items)\n",
    "\n",
    "\n",
    "\n",
    "# Radix Sorting Machine\n",
    "def radixSorting(base, num):\n",
    "    main = Queue()\n",
    "    sub_bins = [Queue() for i in range(base)]\n",
    "    int_str = ''\n",
    "    while num > 0:\n",
    "        n = num % base\n",
    "        sub_bins[n].enqueue(n)\n",
    "        num = num // 10\n",
    "    for q in sub_bins:\n",
    "        while q.size() > 0:\n",
    "            int_str = int_str + str(q.dequeue())\n",
    "    return int_str\n",
    "\n",
    "\n",
    "\n",
    "\n",
    "\n",
    "\n",
    "class Plane(object):\n",
    "    def __init__(self, num, current_time):\n",
    "        self.arrive_time = current_time\n",
    "        self.num = num\n",
    "\n",
    "    def getArriveTime(self):\n",
    "        return self.arrive_time\n",
    "\n",
    "    def getPlaneNum(self):\n",
    "        return self.num\n",
    "\n",
    "\n",
    "class Airport(object):\n",
    "    def __init__(self):\n",
    "        self.arrivals = Queue()\n",
    "        self.wait_times = []\n",
    "        self.plane_count = 1\n",
    "        self.busy = False\n",
    "        self.runwayTimer = 1\n",
    "\n",
    "    def addPlane(self, current_time):\n",
    "        self.arrivals.enqueue(Plane(self.plane_count, current_time))\n",
    "        self.plane_count += 1\n",
    "\n",
    "    def landPlane(self, current_time):\n",
    "        p = self.arrivals.dequeue()\n",
    "        self.addWaitTime(current_time, p.getArriveTime())\n",
    "        self.busy = True\n",
    "\n",
    "    def addWaitTime(self, current_time, arrive_time):\n",
    "        self.wait_times.append(current_time - arrive_time)\n",
    "\n",
    "    def isRunwayBusy(self):\n",
    "        return self.busy\n",
    "\n",
    "    def clearRunway(self):\n",
    "        if self.runwayTimer == 7:\n",
    "            self.busy = False\n",
    "            self.runwayTimer = 1\n",
    "        self.runwayTimer += 1\n",
    "\n",
    "    def waitingToLand(self):\n",
    "        return self.arrivals.size()\n",
    "\n",
    "\n",
    "def randomArrival(arrival_num):\n",
    "    chance = random.randrange(1,arrival_num+1)\n",
    "    return chance == 10\n",
    "        \n",
    "\n",
    "def airport_simulation(time):\n",
    "    a = Airport()\n",
    "    current_time = 0\n",
    "    while current_time < time:\n",
    "        current_time += 1\n",
    "        if randomArrival(10):\n",
    "            a.addPlane(current_time)\n",
    "        if a.waitingToLand() > 0:\n",
    "            if not a.isRunwayBusy():\n",
    "                a.landPlane(current_time)\n",
    "            else:\n",
    "                a.clearRunway()\n",
    "    return a.wait_times, a.waitingToLand()\n",
    "\n",
    "\n",
    "def average(num_list):\n",
    "    return float(sum(num_list)) / len(num_list)\n",
    "\n",
    "\n",
    "class Deque(object):\n",
    "    def __init__(self):\n",
    "        self.items = []\n",
    "\n",
    "    def size(self):\n",
    "        return len(self.items)\n",
    "\n",
    "    def isEmpty(self):\n",
    "        return self.items == []\n",
    "\n",
    "    \n",
    "    def addFront(self, item):\n",
    "        self.items.append(item)\n",
    "\n",
    "    \n",
    "    def addRear(self, item):\n",
    "        self.items = self.items.insert(0,item)\n",
    "\n",
    "    \n",
    "    def removeFront(self):\n",
    "        return self.items.pop()\n",
    "\n",
    "    \n",
    "    def removeRear(self):\n",
    "        return self.items.pop(0)\n",
    "\n",
    "\n",
    "html_doc = \"\"\"\n",
    "<html>\n",
    "   <head>\n",
    "      <title>\n",
    "         Example\n",
    "      </title>\n",
    "   </head>\n",
    "   <body>\n",
    "      <h1>Hello, world</h1>\n",
    "   </body>\n",
    "</html>\n",
    "\"\"\"\n",
    "\n",
    " \n",
    "def validHTML(html):\n",
    "    d = Deque()\n",
    "    i = 0\n",
    "    while i < len(html):\n",
    "        if html[i:i+2] == '</':\n",
    "            print(\"adding close tag\")\n",
    "            d.addFront('e')\n",
    "            i += 2\n",
    "        elif html[i] == '<':\n",
    "            d.addFront('o')\n",
    "            i += 1\n",
    "        elif html[i] == '>':\n",
    "            d.addFront('c')\n",
    "            i += 1\n",
    "        else:\n",
    "            i += 1\n",
    "\n",
    "    \n",
    "    open_count = 0\n",
    "    close_count = 0\n",
    "    while d.size() > 1:\n",
    "        next_str = d.removeRear() + d.removeRear()\n",
    "        print(next_str)\n",
    "        if close_count > open_count:\n",
    "            print(\"close count greater than open count\")\n",
    "            return False\n",
    "        elif next_str not in ['oc','ec']:\n",
    "            print(\"bracket not valid HTML\")\n",
    "            return False\n",
    "        elif next_str == 'oc':\n",
    "            open_count += 1\n",
    "        elif next_str == 'ec':\n",
    "            close_count += 1\n",
    "    print(open_count)\n",
    "    print(close_count)\n",
    "    return open_count == close_count\n",
    "\n",
    "\n",
    "\n",
    "def extractBrackets(html):\n",
    "    d = Deque()\n",
    "       \n",
    "    i = 0\n",
    "    while i < len(html):\n",
    "        print(i)\n",
    "        if html[i:i+2] == '</':\n",
    "            d.addRear('e')\n",
    "            i += 2\n",
    "        elif html[i] == '<':\n",
    "            d.addRear('o')\n",
    "            i += 1\n",
    "        elif html[i] == '>':\n",
    "            d.addFront('c')\n",
    "            i += 1\n",
    "        else:\n",
    "            i += 1\n",
    "    return d\n",
    "\n",
    "\n",
    "class Stack:\n",
    "    def __init__(self):\n",
    "        self.items = LinkedList()\n",
    "\n",
    "    def getItems(self):\n",
    "        return self.items\n",
    "\n",
    "    def size(self):\n",
    "        return self.items.size()\n",
    "\n",
    "    def push(self, item):\n",
    "        self.items.append(item)\n",
    "\n",
    "    def pop(self):\n",
    "        return self.items.pop()\n",
    "\n",
    "    def isEmpty(self):\n",
    "        return self.items.isEmpty()\n",
    "    \n",
    "\n",
    "\n",
    "s1 = Stack()\n",
    "print(s1.size())\n",
    "print(s1.push('hey'))\n",
    "print(s1.pop())\n",
    "print(s1.push(3))\n",
    "print(s1.push(2))\n",
    "print(s1.getItems())\n",
    "print(s1.size())\n",
    "print(s1.isEmpty())\n",
    "\n",
    "\n",
    "\n",
    "class Queue(object):\n",
    "    def __init__(self):\n",
    "        self.items = []\n",
    "        \n",
    "        self.last = -1\n",
    "\n",
    "    def isEmpty(self):\n",
    "        return self.items == []\n",
    "\n",
    "    def enqueue(self, item):\n",
    "        self.last += 1\n",
    "        self.items.insert(0, item)\n",
    "\n",
    "    def dequeue(self):\n",
    "        self.last -= 1\n",
    "        return self.items.pop()\n",
    "        \n",
    "    def size(self):\n",
    "        return len(self.items)\n"
   ]
  },
  {
   "cell_type": "code",
   "execution_count": 3,
   "id": "greenhouse-conditions",
   "metadata": {},
   "outputs": [
    {
     "name": "stdout",
     "output_type": "stream",
     "text": [
      "Question: Implement a queue using linked lists.\n"
     ]
    },
    {
     "data": {
      "text/plain": [
       "20"
      ]
     },
     "execution_count": 3,
     "metadata": {},
     "output_type": "execute_result"
    }
   ],
   "source": [
    "print(\"Question#8: Implement a queue using linked lists.\")\n",
    "\n",
    "from collections import deque\n",
    "que = deque()\n",
    "stock_price_queue = []\n",
    "stock_price_queue.insert(0, 132.10)\n",
    "stock_price_queue.insert(0, 134.12)\n",
    "stock_price_queue.insert(0, 136)\n",
    "\n",
    "stock_price_queue.pop()\n",
    "\n",
    "que.append(5)\n",
    "que.append(15)\n",
    "que.append(20)\n",
    "que.pop()\n"
   ]
  },
  {
   "cell_type": "code",
   "execution_count": 7,
   "id": "exclusive-coordinate",
   "metadata": {},
   "outputs": [
    {
     "name": "stdout",
     "output_type": "stream",
     "text": [
      "Question#9: Write a recursive function to compute the factorial of a number.\n"
     ]
    },
    {
     "name": "stdin",
     "output_type": "stream",
     "text": [
      "Enter n number of factorial:  7\n"
     ]
    },
    {
     "name": "stdout",
     "output_type": "stream",
     "text": [
      "7 * 6 * 5 * 4 * 3 * 2 * 1\n",
      "The factorial of 7 is 5040\n"
     ]
    }
   ],
   "source": [
    "print(\"Question#9: Write a recursive function to compute the factorial of a number.\")\n",
    "def factorial(n):\n",
    "    if n == 1:\n",
    "        print(n)\n",
    "        return 1\n",
    "    \n",
    "    else:\n",
    "        print(n, \"*\", end = \" \")\n",
    "        return n * factorial(n-1) \n",
    "number = int(input(\"Enter n number of factorial: \"))\n",
    "print(\"The factorial of\", number, \"is\", factorial(number))\n",
    "\n",
    "def recursive(n):\n",
    "    if n <= 1:\n",
    "        return n\n",
    "    else:\n",
    "        return(recursive(n-1) + recursive(n-2))\n",
    "\n",
    "\n",
    "\n",
    "\n",
    "\n",
    "\n",
    "\n"
   ]
  },
  {
   "cell_type": "code",
   "execution_count": 11,
   "id": "close-chase",
   "metadata": {},
   "outputs": [
    {
     "name": "stdout",
     "output_type": "stream",
     "text": [
      "Question#10: Set up a random experiment to test the difference between a sequential search and a binary search on a list of integers.\n",
      "\n",
      "Sequential Search\n",
      "Element is present at index 3\n",
      "\n",
      "Binary Search\n",
      "The item t= 10 was not found.\n"
     ]
    }
   ],
   "source": [
    "print(\"Question#10: Set up a random experiment to test the difference between a sequential search and a binary search on a list of integers.\")\n",
    "print(\"\\nSequential Search\")\n",
    "\n",
    "def search(arr, n, x):\n",
    " \n",
    "    for i in range(0, n):\n",
    "        if (arr[i] == x):\n",
    "            return i\n",
    "    return -1\n",
    " \n",
    " \n",
    "# Driver Code\n",
    "arr = [2, 3, 4, 10, 40]\n",
    "x = 10\n",
    "n = len(arr)\n",
    " \n",
    "# Function call\n",
    "result = search(arr, n, x)\n",
    "if(result == -1):\n",
    "    print(\"Element is not present in array\")\n",
    "else:\n",
    "    print(\"Element is present at index\", result)\n",
    "\n",
    "\n",
    "\n",
    "\n",
    "print(\"\\nBinary Search\")\n",
    "\n",
    "def binarySearch(alist, item):\n",
    "    first = 0\n",
    "    last = len(alist)-1\n",
    "    found = False\n",
    "    \n",
    "    while first <= last and not found:\n",
    "        midpoint = (first + last)//2\n",
    "        if alist[midpoint] == item:\n",
    "            found = True\n",
    "        else:\n",
    "            if item < alist[midpoint]:\n",
    "                last = midpoint - 1\n",
    "            else:\n",
    "                first = midpoint + 1\n",
    "    return (found, midpoint)\n",
    "\n",
    "testlist = [0, 1, 2, 8, 13, 15, 19, 32, 42]\n",
    "item = 10\n",
    "(found,k) = binarySearch(testlist, item)\n",
    "if found == True:\n",
    "    print('The item t= %s was found at testlist[%s]') %(item, k)\n",
    "else:\n",
    "    print('The item t= %s was not found.' %item)\n"
   ]
  },
  {
   "cell_type": "code",
   "execution_count": 6,
   "id": "passing-alias",
   "metadata": {},
   "outputs": [
    {
     "name": "stdout",
     "output_type": "stream",
     "text": [
      "Question#11: Suppose you are a computer scientist/art thief who has broken into a major art gallery. All you have with you to haul out your stolen art is your knapsack which only holds W pounds of art, but for every piece of art you know its value and its weight. Write a dynamic programming function to help you maximize your profit. Here is a sample problem for you to use to get started: Suppose your knapsack can hold a total weight of 20. You have 5 items as follows:\n"
     ]
    },
    {
     "ename": "NameError",
     "evalue": "name 'knapWeight' is not defined",
     "output_type": "error",
     "traceback": [
      "\u001b[1;31m---------------------------------------------------------------------------\u001b[0m",
      "\u001b[1;31mNameError\u001b[0m                                 Traceback (most recent call last)",
      "\u001b[1;32m<ipython-input-6-4497dc19fabe>\u001b[0m in \u001b[0;36m<module>\u001b[1;34m\u001b[0m\n\u001b[0;32m     42\u001b[0m \u001b[0mrecurse\u001b[0m \u001b[1;33m=\u001b[0m \u001b[1;32mTrue\u001b[0m\u001b[1;33m\u001b[0m\u001b[1;33m\u001b[0m\u001b[0m\n\u001b[0;32m     43\u001b[0m \u001b[1;32mif\u001b[0m \u001b[0mrecurse\u001b[0m\u001b[1;33m:\u001b[0m\u001b[1;33m\u001b[0m\u001b[1;33m\u001b[0m\u001b[0m\n\u001b[1;32m---> 44\u001b[1;33m         \u001b[0mmaxProfits\u001b[0m \u001b[1;33m=\u001b[0m \u001b[1;33m[\u001b[0m\u001b[1;36m0\u001b[0m\u001b[1;33m]\u001b[0m \u001b[1;33m*\u001b[0m \u001b[1;33m(\u001b[0m\u001b[0mknapWeight\u001b[0m \u001b[1;33m+\u001b[0m \u001b[1;36m1\u001b[0m\u001b[1;33m)\u001b[0m\u001b[1;33m\u001b[0m\u001b[1;33m\u001b[0m\u001b[0m\n\u001b[0m\u001b[0;32m     45\u001b[0m         \u001b[0mweightsUsed\u001b[0m \u001b[1;33m=\u001b[0m \u001b[1;33m[\u001b[0m\u001b[1;36m0\u001b[0m\u001b[1;33m]\u001b[0m \u001b[1;33m*\u001b[0m \u001b[1;33m(\u001b[0m\u001b[0mknapWeight\u001b[0m \u001b[1;33m+\u001b[0m \u001b[1;36m1\u001b[0m\u001b[1;33m)\u001b[0m\u001b[1;33m\u001b[0m\u001b[1;33m\u001b[0m\u001b[0m\n\u001b[0;32m     46\u001b[0m \u001b[1;33m\u001b[0m\u001b[0m\n",
      "\u001b[1;31mNameError\u001b[0m: name 'knapWeight' is not defined"
     ]
    }
   ],
   "source": [
    "print(\"Question#11: Suppose you are a computer scientist/art thief who has broken into a major art gallery. All you have with you to haul out your stolen art is your knapsack which only holds W pounds of art, but for every piece of art you know its value and its weight. Write a dynamic programming function to help you maximize your profit. Here is a sample problem for you to use to get started: Suppose your knapsack can hold a total weight of 20. You have 5 items as follows:\")\n",
    "\n",
    "class StolenItem:\n",
    "\tdef __init__(self, theID, theValue, theWeight):\n",
    "\t\tself.ID = theID\n",
    "\t\tself.value = theValue\n",
    "\t\tself.weight = theWeight\n",
    "\n",
    "def dpMaxProfit (itemList, knapWeight, maxProfits, weightsUsed):\n",
    "\tmaxProfit = 0\n",
    "\n",
    "\tfor knapWeights in range (knapWeight + 1):\n",
    "\t\tprint(\"KNAPWEIGHT:\", knapWeights - 1, \" \", maxProfits)\n",
    "\t\tnewItem = itemList[0]\n",
    "\n",
    "\t\tfor item in [x for x in itemList if x.weight <= knapWeights]:\n",
    "\t\t\tif maxProfits[knapWeights - item.weight] + item.value > maxProfit: \n",
    "\t\t\t\tmaxProfit = maxProfits[knapWeights - item.weight] + item.value\n",
    "\t\t\t\tnewItem = item\n",
    "\t\tmaxProfits[knapWeights] = maxProfit\n",
    "\t\tweightsUsed[knapWeights] = newItem.weight\n",
    "\n",
    "\treturn(maxProfits[knapWeight])\n",
    "\t\n",
    "def reMaxProfit(itemList, knapWeight):\n",
    "\tif knapWeight < 1:\n",
    "\t\treturn 0 \n",
    "\n",
    "\tl1 = [x for x in itemList if x.weight <= knapWeight]\t\n",
    "\tprofitList = [(item.value + reMaxProfit(itemList, knapWeight-item.weight)) for item in l1]\n",
    "\n",
    "\tif len(profitList) > 0:\n",
    "\t\treturn max(profitList)\n",
    "\telse:\n",
    "\t\treturn 0 \n",
    "\t\t\n",
    "def _weightsUsed(weightList, knapWeight):\n",
    "\tweight = knapWeight\n",
    "\twhile weight > 0:\n",
    "\t\tprint(weightList[weight])\n",
    "\t\tweight -= weightList[weight]\n",
    "recurse = True\n",
    "if recurse:\n",
    "\tmaxProfits = [0] * (knapWeight + 1)\n",
    "\tweightsUsed = [0] * (knapWeight + 1)\n",
    "\n",
    "def main():\n",
    "\titemList = [StolenItem(1,3,2), StolenItem(2,4,3), StolenItem(3,8,4), StolenItem(4,8,5), StolenItem(5,10,9)]\n",
    "\tknapWeight = 20\n",
    "\tif itemsList !=  recurse:\n",
    "\t\tmaxProfits = [0] * (knapWeight + 1)\n",
    "\t\tweightsUsed = [0] * (knapWeight + 1)\n",
    "\t\tprint((dpMaxProfit(itemList, knapWeight, maxProfits, weightsUsed)))\n",
    "\t\tprint(_weightsUsed(weightsUsed, knapWeight))\n",
    "\telse:\t\n",
    "\t\tprint((reMaxProfit(itemList, knapWeight)))\n",
    "\n",
    "if __name__ == \"__main__\":\n",
    "\tmain()\n"
   ]
  },
  {
   "cell_type": "code",
   "execution_count": null,
   "id": "minor-signature",
   "metadata": {},
   "outputs": [],
   "source": []
  },
  {
   "cell_type": "code",
   "execution_count": null,
   "id": "organic-letter",
   "metadata": {},
   "outputs": [],
   "source": []
  }
 ],
 "metadata": {
  "kernelspec": {
   "display_name": "Python 3",
   "language": "python",
   "name": "python3"
  },
  "language_info": {
   "codemirror_mode": {
    "name": "ipython",
    "version": 3
   },
   "file_extension": ".py",
   "mimetype": "text/x-python",
   "name": "python",
   "nbconvert_exporter": "python",
   "pygments_lexer": "ipython3",
   "version": "3.9.2"
  }
 },
 "nbformat": 4,
 "nbformat_minor": 5
}
